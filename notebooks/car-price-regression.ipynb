{
 "cells": [
  {
   "cell_type": "markdown",
   "metadata": {},
   "source": [
    "# Предсказание цены на автомобили"
   ]
  },
  {
   "cell_type": "markdown",
   "metadata": {},
   "source": [
    "Датасет содержит 10 000 записей, созданных с целью прогнозирования цен на автомобили. Каждая строка представляет информацию об автомобиле и его цене.\n",
    "\n",
    "**Описание столбцов:**\n",
    "\n",
    "- *Brand*: марка автомобиля.\n",
    "\n",
    "- *Model*: модель автомобиля.\n",
    "\n",
    "- *Year*: год выпуска.\n",
    "\n",
    "- *Engine_Size*: размер двигателя в литрах.\n",
    "\n",
    "- *Fuel_Type*: тип топлива, используемого автомобилем:\n",
    "    - *Petrol*: автомобили, работающие на бензине.\n",
    "    - *Diesel*: автомобили, работающие на дизельном топливе.\n",
    "    - *Hybrid*: автомобили, использующие как топливо, так и электричество.\n",
    "    - *Electric*: полностью электрические автомобили.\n",
    "\n",
    "- *Transmission*: тип трансмиссии:\n",
    "    - *Manual*: механическая коробка передач.\n",
    "    - *Automatic*: автоматическая коробка передач.\n",
    "    - *Semi-Automatic*: полуавтоматическая коробка передач.\n",
    "\n",
    "- *Mileage*: общее расстояние (в км), которое проехал автомобиль.\n",
    "\n",
    "- *Doors*: количество дверей в автомобиле.\n",
    "\n",
    "- *Owner_Count*: количество предыдущих владельцев автомобиля.\n",
    "\n",
    "- *Price*: цена автомобиля (таргет)."
   ]
  },
  {
   "cell_type": "code",
   "execution_count": 1,
   "metadata": {},
   "outputs": [],
   "source": [
    "import optuna as opt\n",
    "import pandas as pd\n",
    "import seaborn as sns\n",
    "import matplotlib.pyplot as plt\n",
    "from sklearn.preprocessing  import LabelEncoder\n",
    "from sklearn.preprocessing import MinMaxScaler\n",
    "from sklearn.model_selection import train_test_split, cross_val_score\n",
    "from sklearn.ensemble import RandomForestRegressor\n",
    "from sklearn.metrics import mean_absolute_error, r2_score\n",
    "\n",
    "sns.set_theme()"
   ]
  },
  {
   "cell_type": "markdown",
   "metadata": {},
   "source": [
    "## Знакомство с данными"
   ]
  },
  {
   "cell_type": "code",
   "execution_count": null,
   "metadata": {},
   "outputs": [],
   "source": [
    "data = pd.read_csv('../data/car_price_dataset.csv')\n",
    "data"
   ]
  },
  {
   "cell_type": "code",
   "execution_count": null,
   "metadata": {},
   "outputs": [],
   "source": [
    "# проверим данные на наличие пропусков\n",
    "data.info()"
   ]
  },
  {
   "cell_type": "code",
   "execution_count": null,
   "metadata": {},
   "outputs": [],
   "source": [
    "# проверим на наличие выбросов числовые признаки\n",
    "data.describe()"
   ]
  },
  {
   "cell_type": "markdown",
   "metadata": {},
   "source": [
    "## EDA"
   ]
  },
  {
   "cell_type": "code",
   "execution_count": null,
   "metadata": {},
   "outputs": [],
   "source": [
    "# взглянем на статистику категориальных данных\n",
    "data.describe(include=['object'])"
   ]
  },
  {
   "cell_type": "code",
   "execution_count": null,
   "metadata": {},
   "outputs": [],
   "source": [
    "# взглянем, как модель влияет на ценообразование\n",
    "price_by_model = data.groupby('Model')['Price'].mean().sort_values(ascending=False)\n",
    "\n",
    "plt.figure(figsize=(15, 6))\n",
    "sns.barplot(price_by_model)\n",
    "plt.xticks(rotation=90)\n",
    "plt.show()\n",
    "print('Среднеквадратическое отклонение:', price_by_model.std())"
   ]
  },
  {
   "cell_type": "markdown",
   "metadata": {},
   "source": [
    "## Подготовка данных"
   ]
  },
  {
   "cell_type": "code",
   "execution_count": 23,
   "metadata": {},
   "outputs": [],
   "source": [
    "# закодируем порядковые признаки\n",
    "ord_encoder = LabelEncoder()\n",
    "\n",
    "data['Doors'] = ord_encoder.fit_transform(data['Doors'])\n",
    "data['Owner_Count'] = ord_encoder.fit_transform(data['Owner_Count'])\n",
    "data['Year'] = ord_encoder.fit_transform(data['Year'])"
   ]
  },
  {
   "cell_type": "code",
   "execution_count": 24,
   "metadata": {},
   "outputs": [],
   "source": [
    "# закодируем номинальные признаки one hot encoding\n",
    "columns_encode = ['Brand', 'Model', 'Fuel_Type', 'Transmission']\n",
    "\n",
    "data = pd.get_dummies(data, columns=columns_encode, drop_first=True, dtype='int')"
   ]
  },
  {
   "cell_type": "code",
   "execution_count": 25,
   "metadata": {},
   "outputs": [],
   "source": [
    "# подготовим тренировочную и тестовую выборки\n",
    "X = data.drop(['Price'], axis=1)\n",
    "y = data['Price']\n",
    " \n",
    "X_train, X_test, y_train, y_test = train_test_split(X, y, random_state=42, test_size=0.2, shuffle=True)"
   ]
  },
  {
   "cell_type": "code",
   "execution_count": 26,
   "metadata": {},
   "outputs": [],
   "source": [
    "# нормализуем числовые признаки с помощию minmaxscaler\n",
    "num_columns = ['Engine_Size', 'Mileage']\n",
    "\n",
    "scaler = MinMaxScaler()\n",
    "X_train[num_columns] = scaler.fit_transform(X_train[num_columns])\n",
    "X_test[num_columns] = scaler.transform(X_test[num_columns])"
   ]
  },
  {
   "cell_type": "markdown",
   "metadata": {},
   "source": [
    "## Обучение модели"
   ]
  },
  {
   "cell_type": "code",
   "execution_count": null,
   "metadata": {},
   "outputs": [],
   "source": [
    "# в качестве модели регрессии используем RandomForest\n",
    "forest = RandomForestRegressor(\n",
    "    n_estimators=100,\n",
    "    criterion='squared_error',\n",
    "    min_samples_leaf=5,\n",
    "    max_depth=10,\n",
    "    random_state=42\n",
    ")\n",
    "\n",
    "forest.fit(X_train, y_train)"
   ]
  },
  {
   "cell_type": "markdown",
   "metadata": {},
   "source": [
    "## Оценка модели"
   ]
  },
  {
   "cell_type": "code",
   "execution_count": null,
   "metadata": {},
   "outputs": [],
   "source": [
    "print('MAE:', mean_absolute_error(y_test, forest.predict(X_test)))\n",
    "print('R^2:', r2_score(y_test, forest.predict(X_test)))"
   ]
  },
  {
   "cell_type": "markdown",
   "metadata": {},
   "source": [
    "## Подбор гиперпараметров"
   ]
  },
  {
   "cell_type": "code",
   "execution_count": null,
   "metadata": {},
   "outputs": [],
   "source": [
    "# подберем оптимальные гиперпараметры для нашей модели с помощью optuna и кросс-валидации\n",
    "def opt_forest(trial):\n",
    "    criterion = trial.suggest_categorical('criterion', ['squared_error', 'absolute_error', 'friedman_mse', 'poisson'])\n",
    "    max_depth = trial.suggest_int('max_depth', 10, 20, step=1)\n",
    "    min_samples_leaf = trial.suggest_int('min_samples_leaf', 1, 10, step=1)\n",
    "    \n",
    "    model = RandomForestRegressor(\n",
    "        n_estimators=100,\n",
    "        criterion=criterion,\n",
    "        max_depth=max_depth,\n",
    "        min_samples_leaf=min_samples_leaf,\n",
    "        n_jobs=-1,\n",
    "        random_state=42\n",
    "    )\n",
    "    \n",
    "    score = cross_val_score(\n",
    "        model, X_train, y_train,\n",
    "        scoring='r2',\n",
    "        cv=5,\n",
    "        n_jobs=-1\n",
    "    ).mean()\n",
    "    \n",
    "    return score"
   ]
  },
  {
   "cell_type": "code",
   "execution_count": null,
   "metadata": {},
   "outputs": [],
   "source": [
    "forest_study = opt.create_study(study_name='RandomForest', direction='maximize')\n",
    "forest_study.optimize(opt_forest, n_trials=10, n_jobs=-1)"
   ]
  },
  {
   "cell_type": "code",
   "execution_count": null,
   "metadata": {},
   "outputs": [],
   "source": [
    "print('Best params:', forest_study.best_params)"
   ]
  },
  {
   "cell_type": "code",
   "execution_count": null,
   "metadata": {},
   "outputs": [],
   "source": [
    "forest = RandomForestRegressor(\n",
    "    **forest_study.best_params,\n",
    "    n_estimators=100,\n",
    "    random_state=42\n",
    ")\n",
    "\n",
    "forest.fit(X_train, y_train)\n",
    "\n",
    "print('MAE:', mean_absolute_error(y_test, forest.predict(X_test)))\n",
    "print('R^2:', r2_score(y_test, forest.predict(X_test)))"
   ]
  }
 ],
 "metadata": {
  "kernelspec": {
   "display_name": "mlops",
   "language": "python",
   "name": "python3"
  },
  "language_info": {
   "codemirror_mode": {
    "name": "ipython",
    "version": 3
   },
   "file_extension": ".py",
   "mimetype": "text/x-python",
   "name": "python",
   "nbconvert_exporter": "python",
   "pygments_lexer": "ipython3",
   "version": "3.12.3"
  }
 },
 "nbformat": 4,
 "nbformat_minor": 2
}
